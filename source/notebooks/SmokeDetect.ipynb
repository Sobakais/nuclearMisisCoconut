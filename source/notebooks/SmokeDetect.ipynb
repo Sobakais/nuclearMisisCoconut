{
  "nbformat": 4,
  "nbformat_minor": 0,
  "metadata": {
    "colab": {
      "provenance": []
    },
    "kernelspec": {
      "name": "python3",
      "display_name": "Python 3"
    },
    "language_info": {
      "name": "python"
    }
  },
  "cells": [
    {
      "cell_type": "code",
      "source": [
        "from google.colab import drive\n",
        "drive.mount('/content/drive')"
      ],
      "metadata": {
        "id": "QOfBc23tegvR"
      },
      "execution_count": null,
      "outputs": []
    },
    {
      "cell_type": "code",
      "source": [
        "HOME = \"/content/drive/MyDrive/SmokeDetection\"\n",
        "!mkdir {HOME}"
      ],
      "metadata": {
        "id": "b1sSp4U0e9Ot"
      },
      "execution_count": null,
      "outputs": []
    },
    {
      "cell_type": "code",
      "source": [
        "!pip install ultralytics==8.0.196\n",
        "\n",
        "from IPython import display\n",
        "display.clear_output()\n",
        "\n",
        "import ultralytics\n",
        "ultralytics.checks()"
      ],
      "metadata": {
        "id": "c8MChZD5fD97"
      },
      "execution_count": null,
      "outputs": []
    },
    {
      "cell_type": "code",
      "source": [
        "!mkdir {HOME}/datasets\n",
        "%cd {HOME}/datasets\n",
        "\n",
        "!pip install roboflow --quiet\n",
        "\n",
        "from roboflow import Roboflow\n",
        "rf = Roboflow(api_key=\"Fd8U0qs1VYNoZGpQvPBw\")\n",
        "project = rf.workspace(\"121-hsypi\").project(\"smoking-gsusl\")\n",
        "version = project.version(1)\n",
        "dataset = version.download(\"yolov8\")"
      ],
      "metadata": {
        "id": "gGVjL75VlDKb"
      },
      "execution_count": null,
      "outputs": []
    },
    {
      "cell_type": "code",
      "source": [
        "%cd {HOME}\n",
        "!ls datasets/Smoking-1/"
      ],
      "metadata": {
        "id": "fHR81ioQFYdb"
      },
      "execution_count": null,
      "outputs": []
    },
    {
      "cell_type": "code",
      "source": [
        "!yolo task=detect mode=train model=yolov8s.pt data={HOME}/datasets/Smoking-1/data.yaml epochs=50 imgsz=640 plots=True"
      ],
      "metadata": {
        "id": "Fx7v_Sx1_YRE"
      },
      "execution_count": null,
      "outputs": []
    }
  ]
}